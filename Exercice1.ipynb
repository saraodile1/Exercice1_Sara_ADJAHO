{
 "cells": [
  {
   "cell_type": "code",
   "execution_count": 1,
   "metadata": {},
   "outputs": [],
   "source": [
    "import os\n",
    "import librosa\n",
    "import pandas as pd\n",
    "import cv2\n",
    "import fastavro\n",
    "import yaml\n",
    "import zipfile\n",
    "from PyPDF2 import PdfReader"
   ]
  },
  {
   "cell_type": "code",
   "execution_count": 2,
   "metadata": {},
   "outputs": [
    {
     "name": "stdout",
     "output_type": "stream",
     "text": [
      "Durée du fichier audio: 27.74204081632653 secondes\n"
     ]
    }
   ],
   "source": [
    "# 1 lecture d'un fichier audio et durée\n",
    "audio_path = os.path.join(\"dossier_fichier\", \"Audio.mp3\")\n",
    "y, sr = librosa.load(audio_path)\n",
    "\n",
    "duration = librosa.get_duration(y=y, sr=sr)\n",
    "print(f\"Durée du fichier audio: {duration} secondes\")\n"
   ]
  },
  {
   "cell_type": "code",
   "execution_count": null,
   "metadata": {},
   "outputs": [],
   "source": [
    "# 2 Lecture d'un fichier Video et FPS\n",
    "video_path = os.path.join(\"dossier_fichier\", \"video.mp4\")\n",
    "cap = cv2.VideoCapture(video_path)\n",
    "\n",
    "fps = cap.get(cv2.CAP_PROP_FPS)\n",
    "print(f\"FPS de la vidéo: {fps}\")\n",
    "\n",
    "cap.release()"
   ]
  },
  {
   "cell_type": "code",
   "execution_count": null,
   "metadata": {},
   "outputs": [],
   "source": [
    "# 3 Lecture d'un fichier parquet et affichage\n",
    "parquet_file = os.path.join(\"dossier_fichier\", \"iris.parquet\")\n",
    "df = pd.read_parquet(parquet_file)\n",
    "print(df)\n"
   ]
  },
  {
   "cell_type": "code",
   "execution_count": null,
   "metadata": {},
   "outputs": [],
   "source": [
    "# 4 Lecture d'un fichier avro et affichage des données\n",
    "avro_file =  os.path.join(\"dossier_fichier\", \"fichier.avro\")\n",
    "with open(avro_file, \"rb\") as f:\n",
    "    reader = fastavro.reader(f)\n",
    "    records = [record for record in reader]\n",
    "df = pd.DataFrame(records)\n",
    "print(df)\n"
   ]
  },
  {
   "cell_type": "code",
   "execution_count": null,
   "metadata": {},
   "outputs": [],
   "source": [
    "# 5 Lecture d'un fichier yaml et affichage des clés principales\n",
    "yaml_path= os.path.join(\"dossier_fichier\", \"fichierYaml.yaml\")\n",
    "with open(yaml_path, \"r\") as f:\n",
    "    data = yaml.safe_load(f)\n",
    "print(\"Clés principales du fichier YAML:\", data.keys())\n"
   ]
  },
  {
   "cell_type": "code",
   "execution_count": null,
   "metadata": {},
   "outputs": [],
   "source": [
    "# 6 Lecture d'un fichier zip et extraction des fichiers\n",
    "zip_file =os.path.join(\"dossier_fichier\", \"exemple.zip\") \n",
    "with zipfile.ZipFile(zip_file, \"r\") as zip_ref:\n",
    "    zip_ref.extractall(\"dossier_fichier\")\n",
    "print(\"Fichiers extraits :\", zip_ref.namelist())\n"
   ]
  },
  {
   "cell_type": "code",
   "execution_count": null,
   "metadata": {},
   "outputs": [],
   "source": [
    "# 7 Lecture d'un fichier pdf et extraction du texte\n",
    "pdf_file = os.path.join(\"dossier_fichier\", \"document.pdf\")\n",
    "reader = PdfReader(pdf_file)\n",
    "text = \"\\n\".join([page.extract_text() for page in reader.pages if page.extract_text()])\n",
    "print(text)\n"
   ]
  },
  {
   "cell_type": "code",
   "execution_count": null,
   "metadata": {},
   "outputs": [],
   "source": [
    "# 8 Lecture d'un fichier markdown et affichage du contenu\n",
    "markdown_file = os.path.join(\"dossier_fichier\", \"sample-4.md\")\n",
    "with open(markdown_file, \"r\", encoding=\"utf-8\") as f:\n",
    "    content = f.read()\n",
    "print(content)\n"
   ]
  },
  {
   "cell_type": "code",
   "execution_count": null,
   "metadata": {},
   "outputs": [],
   "source": [
    "# 9 Lecture d'un fichier texte et affichage du contenu\n",
    "txt_file = os.path.join(\"dossier_fichier\",\"SampleTextFile.txt\")\n",
    "with open(txt_file, \"r\", encoding=\"utf-8\") as f:\n",
    "    content = f.read()\n",
    "print(content)\n"
   ]
  }
 ],
 "metadata": {
  "kernelspec": {
   "display_name": "env",
   "language": "python",
   "name": "python3"
  },
  "language_info": {
   "codemirror_mode": {
    "name": "ipython",
    "version": 3
   },
   "file_extension": ".py",
   "mimetype": "text/x-python",
   "name": "python",
   "nbconvert_exporter": "python",
   "pygments_lexer": "ipython3",
   "version": "3.12.1"
  }
 },
 "nbformat": 4,
 "nbformat_minor": 2
}
